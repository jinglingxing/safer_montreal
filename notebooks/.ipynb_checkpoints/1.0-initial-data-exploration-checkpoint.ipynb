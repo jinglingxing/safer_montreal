{
 "cells": [
  {
   "cell_type": "markdown",
   "metadata": {},
   "source": [
    "### Including:\n",
    "- Find the number of Zero Longitude or Latitude\n",
    "- Check if the missing Latitude is in a specific category of crime\n",
    "- Check if the missing Latitude is in a specific category of crime\n",
    "- Add date features: Year, Month\n",
    "- Find extrema "
   ]
  },
  {
   "cell_type": "code",
   "execution_count": null,
   "metadata": {},
   "outputs": [],
   "source": [
    "import pandas as pd"
   ]
  },
  {
   "cell_type": "code",
   "execution_count": 4,
   "metadata": {},
   "outputs": [],
   "source": [
    "crime_df = pd.read_csv('../data/interventionscitoyendo.csv', sep=',', encoding='latin-1')"
   ]
  },
  {
   "cell_type": "code",
   "execution_count": 3,
   "metadata": {},
   "outputs": [
    {
     "name": "stdout",
     "output_type": "stream",
     "text": [
      "                  CATEGORIE        DATE QUART   PDQ              X  \\\n",
      "0  Vol de véhicule à moteur  2018-09-13  jour  30.0  294904.159001   \n",
      "1  Vol de véhicule à moteur  2018-04-30  jour  30.0  294904.159001   \n",
      "2  Vol de véhicule à moteur  2018-09-01  nuit   7.0  290274.565000   \n",
      "3                    Méfait  2017-07-21  jour  21.0       0.000000   \n",
      "4                    Méfait  2017-07-29  jour  12.0       0.000000   \n",
      "\n",
      "              Y  LONGITUDE   LATITUDE  \n",
      "0  5.047549e+06 -73.626778  45.567780  \n",
      "1  5.047549e+06 -73.626778  45.567780  \n",
      "2  5.042150e+06 -73.685928  45.519122  \n",
      "3  0.000000e+00 -76.237290   0.000000  \n",
      "4  0.000000e+00 -76.237290   0.000000  \n"
     ]
    }
   ],
   "source": [
    "print(crime_df.head())"
   ]
  },
  {
   "cell_type": "markdown",
   "metadata": {},
   "source": [
    "#### Find the number of Zero Longitude or Latitude"
   ]
  },
  {
   "cell_type": "code",
   "execution_count": 16,
   "metadata": {},
   "outputs": [
    {
     "data": {
      "text/html": [
       "<div>\n",
       "<style scoped>\n",
       "    .dataframe tbody tr th:only-of-type {\n",
       "        vertical-align: middle;\n",
       "    }\n",
       "\n",
       "    .dataframe tbody tr th {\n",
       "        vertical-align: top;\n",
       "    }\n",
       "\n",
       "    .dataframe thead th {\n",
       "        text-align: right;\n",
       "    }\n",
       "</style>\n",
       "<table border=\"1\" class=\"dataframe\">\n",
       "  <thead>\n",
       "    <tr style=\"text-align: right;\">\n",
       "      <th></th>\n",
       "      <th>PDQ</th>\n",
       "      <th>X</th>\n",
       "      <th>Y</th>\n",
       "      <th>LONGITUDE</th>\n",
       "      <th>LATITUDE</th>\n",
       "    </tr>\n",
       "  </thead>\n",
       "  <tbody>\n",
       "    <tr>\n",
       "      <th>count</th>\n",
       "      <td>218697.000000</td>\n",
       "      <td>218702.000000</td>\n",
       "      <td>2.187020e+05</td>\n",
       "      <td>218702.000000</td>\n",
       "      <td>218702.000000</td>\n",
       "    </tr>\n",
       "    <tr>\n",
       "      <th>mean</th>\n",
       "      <td>26.412310</td>\n",
       "      <td>245328.789612</td>\n",
       "      <td>4.182488e+06</td>\n",
       "      <td>-74.062524</td>\n",
       "      <td>37.758360</td>\n",
       "    </tr>\n",
       "    <tr>\n",
       "      <th>std</th>\n",
       "      <td>14.018752</td>\n",
       "      <td>111431.966350</td>\n",
       "      <td>1.897437e+06</td>\n",
       "      <td>0.989112</td>\n",
       "      <td>17.129545</td>\n",
       "    </tr>\n",
       "    <tr>\n",
       "      <th>min</th>\n",
       "      <td>1.000000</td>\n",
       "      <td>0.000000</td>\n",
       "      <td>0.000000e+00</td>\n",
       "      <td>-76.237290</td>\n",
       "      <td>0.000000</td>\n",
       "    </tr>\n",
       "    <tr>\n",
       "      <th>25%</th>\n",
       "      <td>15.000000</td>\n",
       "      <td>288363.003992</td>\n",
       "      <td>5.035155e+06</td>\n",
       "      <td>-73.710371</td>\n",
       "      <td>45.456080</td>\n",
       "    </tr>\n",
       "    <tr>\n",
       "      <th>50%</th>\n",
       "      <td>26.000000</td>\n",
       "      <td>295870.750000</td>\n",
       "      <td>5.041428e+06</td>\n",
       "      <td>-73.614295</td>\n",
       "      <td>45.512678</td>\n",
       "    </tr>\n",
       "    <tr>\n",
       "      <th>75%</th>\n",
       "      <td>39.000000</td>\n",
       "      <td>299220.019001</td>\n",
       "      <td>5.045920e+06</td>\n",
       "      <td>-73.571425</td>\n",
       "      <td>45.553135</td>\n",
       "    </tr>\n",
       "    <tr>\n",
       "      <th>max</th>\n",
       "      <td>55.000000</td>\n",
       "      <td>306389.863000</td>\n",
       "      <td>5.062496e+06</td>\n",
       "      <td>-73.479583</td>\n",
       "      <td>45.702351</td>\n",
       "    </tr>\n",
       "  </tbody>\n",
       "</table>\n",
       "</div>"
      ],
      "text/plain": [
       "                 PDQ              X             Y      LONGITUDE  \\\n",
       "count  218697.000000  218702.000000  2.187020e+05  218702.000000   \n",
       "mean       26.412310  245328.789612  4.182488e+06     -74.062524   \n",
       "std        14.018752  111431.966350  1.897437e+06       0.989112   \n",
       "min         1.000000       0.000000  0.000000e+00     -76.237290   \n",
       "25%        15.000000  288363.003992  5.035155e+06     -73.710371   \n",
       "50%        26.000000  295870.750000  5.041428e+06     -73.614295   \n",
       "75%        39.000000  299220.019001  5.045920e+06     -73.571425   \n",
       "max        55.000000  306389.863000  5.062496e+06     -73.479583   \n",
       "\n",
       "            LATITUDE  \n",
       "count  218702.000000  \n",
       "mean       37.758360  \n",
       "std        17.129545  \n",
       "min         0.000000  \n",
       "25%        45.456080  \n",
       "50%        45.512678  \n",
       "75%        45.553135  \n",
       "max        45.702351  "
      ]
     },
     "execution_count": 16,
     "metadata": {},
     "output_type": "execute_result"
    }
   ],
   "source": [
    "crime_df.describe()"
   ]
  },
  {
   "cell_type": "code",
   "execution_count": 14,
   "metadata": {},
   "outputs": [
    {
     "name": "stdout",
     "output_type": "stream",
     "text": [
      "Count of zeros in Column LONGITUDE:  0\n"
     ]
    }
   ],
   "source": [
    "num_zero_long = (crime_df['LONGITUDE']==0).sum()\n",
    "print('Count of zeros in Column LONGITUDE: ', num_zero_long)"
   ]
  },
  {
   "cell_type": "code",
   "execution_count": 13,
   "metadata": {},
   "outputs": [
    {
     "name": "stdout",
     "output_type": "stream",
     "text": [
      "Count of zeros in Column LATITUDE:  37328\n"
     ]
    }
   ],
   "source": [
    "num_zero_long = (crime_df['LATITUDE']==0).sum()\n",
    "print('Count of zeros in Column LATITUDE: ', num_zero_long)"
   ]
  },
  {
   "cell_type": "markdown",
   "metadata": {},
   "source": [
    "#### Check if the missing Latitude is in a specific category of crime "
   ]
  },
  {
   "cell_type": "code",
   "execution_count": 17,
   "metadata": {},
   "outputs": [],
   "source": [
    "miss_lat_df = crime_df[crime_df['LATITUDE']==0] "
   ]
  },
  {
   "cell_type": "markdown",
   "metadata": {},
   "source": [
    "#### CATEGORIE: Nature of the event. List of values:\n",
    "\n",
    "- **Introduction**: break and enter into a public establishment or a private residence, theft of a firearm from a residence\n",
    "- **Vol dans / sur véhicule à moteur**: theft of the contents of a motor vehicle (car, truck, motorcycle, etc.) or of a vehicle part (wheel, bumper, etc.)\n",
    "- **Vol de véhicule à moteur**: theft of car, truck, motorcycle, tractor snowmobile with or without trailer, construction or farm vehicle, all-terrain vehicle\n",
    "- **Méfait**: Graffiti and damage to religious property, vehicle or general damage and all other types of mischief\n",
    "- **Vol qualifié**: Theft accompanied by violence of business, financial institution, person, purse, armored vehicle, vehicle, firearm, and all other types of robbery\n",
    "- **Infraction entraînant la mort**: First degree murder, second degree murder, manslaughter, infanticide, criminal negligence, and all other types of offenses resulting in death"
   ]
  },
  {
   "cell_type": "code",
   "execution_count": 20,
   "metadata": {},
   "outputs": [
    {
     "data": {
      "text/plain": [
       "CATEGORIE\n",
       "Infractions entrainant la mort         38\n",
       "Introduction                         2414\n",
       "Méfait                               8653\n",
       "Vol dans / sur véhicule à moteur    17178\n",
       "Vol de véhicule à moteur             6312\n",
       "Vols qualifiés                       2733\n",
       "dtype: int64"
      ]
     },
     "execution_count": 20,
     "metadata": {},
     "output_type": "execute_result"
    }
   ],
   "source": [
    "miss_lat_df.groupby(['CATEGORIE']).size()"
   ]
  },
  {
   "cell_type": "markdown",
   "metadata": {},
   "source": [
    "It seems the missing latitude cases are most likely related to cars. We will remove these data points temporarily."
   ]
  },
  {
   "cell_type": "code",
   "execution_count": 23,
   "metadata": {},
   "outputs": [
    {
     "name": "stdout",
     "output_type": "stream",
     "text": [
      "<class 'pandas.core.frame.DataFrame'>\n",
      "Int64Index: 181374 entries, 0 to 218701\n",
      "Data columns (total 8 columns):\n",
      " #   Column     Non-Null Count   Dtype  \n",
      "---  ------     --------------   -----  \n",
      " 0   CATEGORIE  181374 non-null  object \n",
      " 1   DATE       181374 non-null  object \n",
      " 2   QUART      181374 non-null  object \n",
      " 3   PDQ        181374 non-null  float64\n",
      " 4   X          181374 non-null  float64\n",
      " 5   Y          181374 non-null  float64\n",
      " 6   LONGITUDE  181374 non-null  float64\n",
      " 7   LATITUDE   181374 non-null  float64\n",
      "dtypes: float64(5), object(3)\n",
      "memory usage: 12.5+ MB\n"
     ]
    }
   ],
   "source": [
    "crime_data = crime_df[crime_df['LATITUDE']!=0]\n",
    "crime_data.info()"
   ]
  },
  {
   "cell_type": "markdown",
   "metadata": {},
   "source": [
    "#### Add date features: Year, Month"
   ]
  },
  {
   "cell_type": "code",
   "execution_count": 27,
   "metadata": {},
   "outputs": [],
   "source": [
    "from datetime import datetime\n",
    "date_data = [datetime.strptime(crime_data.iloc[i]['DATE'], '%Y-%m-%d') for i in range(len(crime_data))]"
   ]
  },
  {
   "cell_type": "code",
   "execution_count": 29,
   "metadata": {},
   "outputs": [
    {
     "data": {
      "text/plain": [
       "datetime.datetime(2018, 9, 13, 0, 0)"
      ]
     },
     "execution_count": 29,
     "metadata": {},
     "output_type": "execute_result"
    }
   ],
   "source": [
    "date_data[0]"
   ]
  },
  {
   "cell_type": "code",
   "execution_count": 30,
   "metadata": {},
   "outputs": [],
   "source": [
    "crime_year = [date_data[i].year for i in range(len(date_data))]\n",
    "crime_month = [date_data[i].month for i in range(len(date_data))]"
   ]
  },
  {
   "cell_type": "code",
   "execution_count": 34,
   "metadata": {},
   "outputs": [
    {
     "data": {
      "text/plain": [
       "181374"
      ]
     },
     "execution_count": 34,
     "metadata": {},
     "output_type": "execute_result"
    }
   ],
   "source": [
    "len(crime_year)"
   ]
  },
  {
   "cell_type": "code",
   "execution_count": 36,
   "metadata": {},
   "outputs": [],
   "source": [
    "crime_data = crime_data.assign(CRIME_YEAR=crime_year)\n",
    "crime_data = crime_data.assign(CRIME_MONTH=crime_month)"
   ]
  },
  {
   "cell_type": "code",
   "execution_count": 38,
   "metadata": {},
   "outputs": [
    {
     "data": {
      "text/html": [
       "<div>\n",
       "<style scoped>\n",
       "    .dataframe tbody tr th:only-of-type {\n",
       "        vertical-align: middle;\n",
       "    }\n",
       "\n",
       "    .dataframe tbody tr th {\n",
       "        vertical-align: top;\n",
       "    }\n",
       "\n",
       "    .dataframe thead th {\n",
       "        text-align: right;\n",
       "    }\n",
       "</style>\n",
       "<table border=\"1\" class=\"dataframe\">\n",
       "  <thead>\n",
       "    <tr style=\"text-align: right;\">\n",
       "      <th></th>\n",
       "      <th>CATEGORIE</th>\n",
       "      <th>DATE</th>\n",
       "      <th>QUART</th>\n",
       "      <th>PDQ</th>\n",
       "      <th>X</th>\n",
       "      <th>Y</th>\n",
       "      <th>LONGITUDE</th>\n",
       "      <th>LATITUDE</th>\n",
       "      <th>CRIME_YEAR</th>\n",
       "      <th>CRIME_MONTH</th>\n",
       "    </tr>\n",
       "  </thead>\n",
       "  <tbody>\n",
       "    <tr>\n",
       "      <th>0</th>\n",
       "      <td>Vol de véhicule à moteur</td>\n",
       "      <td>2018-09-13</td>\n",
       "      <td>jour</td>\n",
       "      <td>30.0</td>\n",
       "      <td>294904.159001</td>\n",
       "      <td>5.047549e+06</td>\n",
       "      <td>-73.626778</td>\n",
       "      <td>45.567780</td>\n",
       "      <td>2018</td>\n",
       "      <td>9</td>\n",
       "    </tr>\n",
       "    <tr>\n",
       "      <th>1</th>\n",
       "      <td>Vol de véhicule à moteur</td>\n",
       "      <td>2018-04-30</td>\n",
       "      <td>jour</td>\n",
       "      <td>30.0</td>\n",
       "      <td>294904.159001</td>\n",
       "      <td>5.047549e+06</td>\n",
       "      <td>-73.626778</td>\n",
       "      <td>45.567780</td>\n",
       "      <td>2018</td>\n",
       "      <td>4</td>\n",
       "    </tr>\n",
       "    <tr>\n",
       "      <th>2</th>\n",
       "      <td>Vol de véhicule à moteur</td>\n",
       "      <td>2018-09-01</td>\n",
       "      <td>nuit</td>\n",
       "      <td>7.0</td>\n",
       "      <td>290274.565000</td>\n",
       "      <td>5.042150e+06</td>\n",
       "      <td>-73.685928</td>\n",
       "      <td>45.519122</td>\n",
       "      <td>2018</td>\n",
       "      <td>9</td>\n",
       "    </tr>\n",
       "    <tr>\n",
       "      <th>6</th>\n",
       "      <td>Méfait</td>\n",
       "      <td>2017-07-30</td>\n",
       "      <td>jour</td>\n",
       "      <td>38.0</td>\n",
       "      <td>297654.715002</td>\n",
       "      <td>5.041877e+06</td>\n",
       "      <td>-73.591457</td>\n",
       "      <td>45.516776</td>\n",
       "      <td>2017</td>\n",
       "      <td>7</td>\n",
       "    </tr>\n",
       "    <tr>\n",
       "      <th>8</th>\n",
       "      <td>Vol dans / sur véhicule à moteur</td>\n",
       "      <td>2017-08-01</td>\n",
       "      <td>jour</td>\n",
       "      <td>39.0</td>\n",
       "      <td>294259.780993</td>\n",
       "      <td>5.051450e+06</td>\n",
       "      <td>-73.635117</td>\n",
       "      <td>45.602873</td>\n",
       "      <td>2017</td>\n",
       "      <td>8</td>\n",
       "    </tr>\n",
       "  </tbody>\n",
       "</table>\n",
       "</div>"
      ],
      "text/plain": [
       "                          CATEGORIE        DATE QUART   PDQ              X  \\\n",
       "0          Vol de véhicule à moteur  2018-09-13  jour  30.0  294904.159001   \n",
       "1          Vol de véhicule à moteur  2018-04-30  jour  30.0  294904.159001   \n",
       "2          Vol de véhicule à moteur  2018-09-01  nuit   7.0  290274.565000   \n",
       "6                            Méfait  2017-07-30  jour  38.0  297654.715002   \n",
       "8  Vol dans / sur véhicule à moteur  2017-08-01  jour  39.0  294259.780993   \n",
       "\n",
       "              Y  LONGITUDE   LATITUDE  CRIME_YEAR  CRIME_MONTH  \n",
       "0  5.047549e+06 -73.626778  45.567780        2018            9  \n",
       "1  5.047549e+06 -73.626778  45.567780        2018            4  \n",
       "2  5.042150e+06 -73.685928  45.519122        2018            9  \n",
       "6  5.041877e+06 -73.591457  45.516776        2017            7  \n",
       "8  5.051450e+06 -73.635117  45.602873        2017            8  "
      ]
     },
     "execution_count": 38,
     "metadata": {},
     "output_type": "execute_result"
    }
   ],
   "source": [
    "crime_data.head()"
   ]
  },
  {
   "cell_type": "markdown",
   "metadata": {},
   "source": [
    "#### Find extrema"
   ]
  },
  {
   "cell_type": "code",
   "execution_count": 43,
   "metadata": {},
   "outputs": [
    {
     "name": "stdout",
     "output_type": "stream",
     "text": [
      "high_extrema (-73.96895444690254, 45.40269124754524)\n",
      "low_extrema (-73.47958329446993, 45.70235112098197)\n"
     ]
    }
   ],
   "source": [
    "high_extrema = (crime_data['LONGITUDE'].min(), crime_data['LATITUDE'].min())\n",
    "low_extrema = (crime_data['LONGITUDE'].max(), crime_data['LATITUDE'].max())\n",
    "print('high_extrema', high_extrema)\n",
    "print('low_extrema', low_extrema)"
   ]
  },
  {
   "cell_type": "code",
   "execution_count": null,
   "metadata": {},
   "outputs": [],
   "source": []
  }
 ],
 "metadata": {
  "kernelspec": {
   "display_name": "Python 3",
   "language": "python",
   "name": "python3"
  },
  "language_info": {
   "codemirror_mode": {
    "name": "ipython",
    "version": 3
   },
   "file_extension": ".py",
   "mimetype": "text/x-python",
   "name": "python",
   "nbconvert_exporter": "python",
   "pygments_lexer": "ipython3",
   "version": "3.8.5"
  }
 },
 "nbformat": 4,
 "nbformat_minor": 4
}
